{
 "cells": [
  {
   "cell_type": "markdown",
   "metadata": {},
   "source": [
    "Lab 2"
   ]
  },
  {
   "cell_type": "markdown",
   "metadata": {},
   "source": [
    "Question 1 Definite Iterations"
   ]
  },
  {
   "cell_type": "markdown",
   "metadata": {},
   "source": [
    "a. Run the following iteration and record the output."
   ]
  },
  {
   "cell_type": "code",
   "execution_count": 2,
   "metadata": {},
   "outputs": [
    {
     "name": "stdout",
     "output_type": "stream",
     "text": [
      "0\n",
      "1\n",
      "2\n",
      "3\n",
      "4\n",
      "5\n",
      "6\n",
      "7\n",
      "8\n",
      "9\n"
     ]
    }
   ],
   "source": [
    "for counter in range(10):\n",
    "    print(counter)"
   ]
  },
  {
   "cell_type": "markdown",
   "metadata": {},
   "source": [
    "b. Write a simple for-loop that displays the even numbers from 0 to 10, inclusively."
   ]
  },
  {
   "cell_type": "code",
   "execution_count": 5,
   "metadata": {},
   "outputs": [
    {
     "name": "stdout",
     "output_type": "stream",
     "text": [
      "0\n",
      "2\n",
      "4\n",
      "6\n",
      "8\n",
      "10\n"
     ]
    }
   ],
   "source": [
    "for counter in range(0,11,2):\n",
    "    print(counter)"
   ]
  },
  {
   "cell_type": "markdown",
   "metadata": {},
   "source": [
    "c. Write a code that displays the even numbers from 0 to 10 on one line and the odd numbers from 11 to 1 on another line."
   ]
  },
  {
   "cell_type": "code",
   "execution_count": 6,
   "metadata": {},
   "outputs": [
    {
     "name": "stdout",
     "output_type": "stream",
     "text": [
      "0 2 4 6 8 10 \n",
      "\n",
      "11 9 7 5 3 1 "
     ]
    }
   ],
   "source": [
    "for counter in range(0,11,2):\n",
    "    print(counter, end = \" \")\n",
    "print(\"\\n\")\n",
    "for counter2 in range(11,0,-2):\n",
    "    print(counter2, end = \" \")"
   ]
  },
  {
   "cell_type": "markdown",
   "metadata": {},
   "source": [
    "d. Write a code that displays each character of the string “Python” followed by its corresponding ASCII value. ASCII value is the value in which the alphabet is stored."
   ]
  },
  {
   "cell_type": "code",
   "execution_count": 7,
   "metadata": {},
   "outputs": [
    {
     "name": "stdout",
     "output_type": "stream",
     "text": [
      "P   80\n",
      "y   121\n",
      "t   116\n",
      "h   104\n",
      "o   111\n",
      "n   110\n"
     ]
    }
   ],
   "source": [
    "for letter in \"Python\":\n",
    "    print(letter, \" \", ord(letter))"
   ]
  },
  {
   "cell_type": "markdown",
   "metadata": {},
   "source": [
    "e. Use the augmented assignment notation to modify the following code which displays the netPayment value after calculating it using the overTime and taxDeduction variables."
   ]
  },
  {
   "cell_type": "code",
   "execution_count": 9,
   "metadata": {},
   "outputs": [
    {
     "name": "stdout",
     "output_type": "stream",
     "text": [
      "The net pay is: $185\n"
     ]
    }
   ],
   "source": [
    "netPayment = 200\n",
    "overTime = 20\n",
    "taxDeduction = 35\n",
    "netPayment += overTime\n",
    "netPayment -= taxDeduction\n",
    "print(\"The net pay is: $\" + str(netPayment))"
   ]
  },
  {
   "cell_type": "markdown",
   "metadata": {},
   "source": [
    "Question 2: Indefinite Iterations"
   ]
  },
  {
   "cell_type": "markdown",
   "metadata": {},
   "source": [
    "a. Convert the iteration listed in Question 1a. to its equivalent condition-controlled iteration.\n",
    "Hint: Use a simple while-loop."
   ]
  },
  {
   "cell_type": "code",
   "execution_count": 13,
   "metadata": {},
   "outputs": [
    {
     "name": "stdout",
     "output_type": "stream",
     "text": [
      "0\n",
      "1\n",
      "2\n",
      "3\n",
      "4\n",
      "5\n",
      "6\n",
      "7\n",
      "8\n",
      "9\n"
     ]
    }
   ],
   "source": [
    "counter = 0\n",
    "while counter < 10:\n",
    "    print(counter)\n",
    "    counter += 1"
   ]
  },
  {
   "cell_type": "markdown",
   "metadata": {},
   "source": [
    "b. Write a while-loop to calculate and display the cubic roots, squares, and cubes for integers\n",
    "ranging from 0 to 10. Hint: Consider using the round() function to round the output of the\n",
    "cubic roots to two decimal places."
   ]
  },
  {
   "cell_type": "code",
   "execution_count": 17,
   "metadata": {},
   "outputs": [
    {
     "name": "stdout",
     "output_type": "stream",
     "text": [
      "Number\tCubic Roots\tSquares\tCubes\n",
      "0 \t 0.0 \t\t 0 \t 0\n",
      "1 \t 1.0 \t\t 1 \t 1\n",
      "2 \t 1.26 \t\t 4 \t 8\n",
      "3 \t 1.44 \t\t 9 \t 27\n",
      "4 \t 1.59 \t\t 16 \t 64\n",
      "5 \t 1.71 \t\t 25 \t 125\n",
      "6 \t 1.82 \t\t 36 \t 216\n",
      "7 \t 1.91 \t\t 49 \t 343\n",
      "8 \t 2.0 \t\t 64 \t 512\n",
      "9 \t 2.08 \t\t 81 \t 729\n",
      "10 \t 2.15 \t\t 100 \t 1000\n"
     ]
    }
   ],
   "source": [
    "counter = 0\n",
    "print(\"Number\\tCubic Roots\\tSquares\\tCubes\")\n",
    "while counter <=10:\n",
    "    print(counter, \"\\t\", round(counter**(1/3), 2), \"\\t\\t\", counter**2, \"\\t\", counter**3)\n",
    "    counter += 1"
   ]
  },
  {
   "cell_type": "markdown",
   "metadata": {},
   "source": [
    "c. Write a program that acquires two integer numbers from a user to calculate and display the sum and average of the integers in between those two numbers."
   ]
  },
  {
   "cell_type": "code",
   "execution_count": 18,
   "metadata": {},
   "outputs": [
    {
     "name": "stdin",
     "output_type": "stream",
     "text": [
      "Enter the first integer number 5\n",
      "Enter the second integer number 6\n"
     ]
    },
    {
     "name": "stdout",
     "output_type": "stream",
     "text": [
      "The sum of the integers between 5 and 6 is: 11\n",
      "The average of the integers between 5 and 6 is: 5.5\n"
     ]
    }
   ],
   "source": [
    "firstINT = input(\"Enter the first integer number\")\n",
    "secondINT = input(\"Enter the second integer number\")\n",
    "iMin = min(int(float(firstINT)), int(float(secondINT)))\n",
    "iMax = max(int(float(firstINT)), int(float(secondINT)))\n",
    "ilength = abs(iMax - iMin) + 1\n",
    "counter = iMin\n",
    "iSum = 0\n",
    "while counter <= iMax:\n",
    "    iSum += counter\n",
    "    counter += 1\n",
    "print(\"The sum of the integers between\", iMin, \"and\", iMax, \"is:\", iSum)\n",
    "iAverage = iSum / ilength\n",
    "print(\"The average of the integers between\", iMin, \"and\", iMax, \"is:\", iAverage)"
   ]
  },
  {
   "cell_type": "markdown",
   "metadata": {},
   "source": [
    "Question 3 Nested Iterations"
   ]
  },
  {
   "cell_type": "markdown",
   "metadata": {},
   "source": [
    "a. Match each of the output patterns listed below to one of the following code snippets."
   ]
  },
  {
   "cell_type": "code",
   "execution_count": 24,
   "metadata": {},
   "outputs": [
    {
     "name": "stdout",
     "output_type": "stream",
     "text": [
      "\n",
      "\n",
      "\n",
      "\n",
      "\n",
      "\n",
      "\n",
      "1 2 3 4 5 6 7 "
     ]
    }
   ],
   "source": [
    "#Pattern 4\n",
    "for iCounter in range(1,8):\n",
    "    print()\n",
    "for jCounter in range(1,iCounter+1):\n",
    "    print(jCounter, end=\" \")"
   ]
  },
  {
   "cell_type": "code",
   "execution_count": 21,
   "metadata": {},
   "outputs": [
    {
     "name": "stdout",
     "output_type": "stream",
     "text": [
      "\n",
      "\n",
      "\n",
      "\n",
      "\n",
      "\n",
      "\n",
      "7 7 7 7 7 7 7 "
     ]
    }
   ],
   "source": [
    "# Pattern 3\n",
    "for iCounter in range(1,8):\n",
    "    print()\n",
    "for jCounter in range(1,iCounter+1):\n",
    "    print(iCounter, end=\" \")"
   ]
  },
  {
   "cell_type": "code",
   "execution_count": 22,
   "metadata": {},
   "outputs": [
    {
     "name": "stdout",
     "output_type": "stream",
     "text": [
      "\n",
      "\n",
      "\n",
      "\n",
      "\n",
      "\n",
      "\n",
      "1 "
     ]
    }
   ],
   "source": [
    "# Patter 1\n",
    "for iCounter in range(7,0, -1):\n",
    "    print()\n",
    "for jCounter in range(1,iCounter+1):\n",
    "    print(iCounter, end=\" \")"
   ]
  },
  {
   "cell_type": "code",
   "execution_count": 23,
   "metadata": {},
   "outputs": [
    {
     "name": "stdout",
     "output_type": "stream",
     "text": [
      "\n",
      "\n",
      "\n",
      "\n",
      "\n",
      "\n",
      "\n",
      "1 "
     ]
    }
   ],
   "source": [
    "# Pattern 2\n",
    "for iCounter in range(7,0, -1):\n",
    "    print()\n",
    "for jCounter in range(1,iCounter+1):\n",
    "    print(jCounter, end=\" \")"
   ]
  },
  {
   "cell_type": "markdown",
   "metadata": {},
   "source": [
    "b. Write a program to generate the following output pattern.\n",
    "                            1\n",
    "                           2 2\n",
    "                          3 3 3\n",
    "                         4 4 4 4\n",
    "                        5 5 5 5 5\n",
    "                       6 6 6 6 6 6\n",
    "                      7 7 7 7 7 7 7"
   ]
  },
  {
   "cell_type": "code",
   "execution_count": 25,
   "metadata": {},
   "outputs": [
    {
     "name": "stdout",
     "output_type": "stream",
     "text": [
      "              1 \n",
      "             2 2 \n",
      "            3 3 3 \n",
      "           4 4 4 4 \n",
      "          5 5 5 5 5 \n",
      "         6 6 6 6 6 6 \n",
      "        7 7 7 7 7 7 7 \n"
     ]
    }
   ],
   "source": [
    "kCounter = 7*2\n",
    "x = 0\n",
    "for iCounter in range(0,7):\n",
    "    x += 1\n",
    "    for jCounter in range(0, kCounter):\n",
    "        print(end = \" \")\n",
    "    kCounter = kCounter - 1\n",
    "    for jCouter in range(0, iCounter + 1):\n",
    "        print(x, end = \" \")\n",
    "    print(\"\\r\")"
   ]
  },
  {
   "cell_type": "markdown",
   "metadata": {},
   "source": [
    "c. Write a program that counts the number of letters in each word of the following statement\n",
    "“The nested loops are loops that iterate within other loops”"
   ]
  },
  {
   "cell_type": "code",
   "execution_count": null,
   "metadata": {},
   "outputs": [],
   "source": [
    "iString = \"The nested loops are loops that iterate within other loops\"\n",
    "for word in iString.split():\n",
    "    count = 0\n",
    "    for letter in word:\n",
    "        count += 1\n",
    "    print(word, \"\\t\", count )"
   ]
  }
 ],
 "metadata": {
  "kernelspec": {
   "display_name": "Python 3",
   "language": "python",
   "name": "python3"
  },
  "language_info": {
   "codemirror_mode": {
    "name": "ipython",
    "version": 3
   },
   "file_extension": ".py",
   "mimetype": "text/x-python",
   "name": "python",
   "nbconvert_exporter": "python",
   "pygments_lexer": "ipython3",
   "version": "3.7.6"
  }
 },
 "nbformat": 4,
 "nbformat_minor": 4
}
